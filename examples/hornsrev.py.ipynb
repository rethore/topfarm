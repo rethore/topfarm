{
 "cells": [
  {
   "cell_type": "code",
   "execution_count": null,
   "metadata": {},
   "outputs": [],
   "source": []
  },
  {
   "cell_type": "code",
   "execution_count": 1,
   "metadata": {
    "scrolled": true
   },
   "outputs": [],
   "source": [
    "\n",
    "import numpy as np\n",
    "import xarray as xr\n",
    "\n",
    "from topfarm.aep import AEP_load, AEP\n",
    "from topfarm.wake_model import WakeModel\n",
    "from topfarm.wind_farm import WindFarmLayout\n",
    "from topfarm.wind_resource import WindResourceNodes"
   ]
  },
  {
   "cell_type": "code",
   "execution_count": 2,
   "metadata": {},
   "outputs": [],
   "source": [
    "from topfarm.wind_resource import gwcfile_to_ds"
   ]
  },
  {
   "cell_type": "code",
   "execution_count": 3,
   "metadata": {},
   "outputs": [],
   "source": [
    "from topfarm.wind_resource import WindResource"
   ]
  },
  {
   "cell_type": "code",
   "execution_count": 4,
   "metadata": {},
   "outputs": [],
   "source": [
    "filename = 'wrf_HRI_55.489N_7.832E_70m.lib'"
   ]
  },
  {
   "cell_type": "code",
   "execution_count": 5,
   "metadata": {},
   "outputs": [],
   "source": [
    "ds = gwcfile_to_ds(filename)\n",
    "wr = WindResource(ds)"
   ]
  },
  {
   "cell_type": "code",
   "execution_count": 8,
   "metadata": {},
   "outputs": [
    {
     "name": "stdout",
     "output_type": "stream",
     "text": [
      "Gross AEP: 7.1107e+10\n",
      "Net AEP:   7.0580e+10\n"
     ]
    }
   ],
   "source": [
    "wfl_path = '/Users/pe/git/fw/jennifu/examples/hornsrev.yml'\n",
    "wind_farm = WindFarmLayout(yml_path=wfl_path)\n",
    "\n",
    "# =============================================================================\n",
    "# STEP 3: Define wake model\n",
    "\n",
    "NOJ = WakeModel()  # N.O. Jensen by default\n",
    "\n",
    "# =============================================================================\n",
    "# STEP 4: Calculate AEP\n",
    "\n",
    "aep = AEP(wr, wind_farm, NOJ, ti=100.0)  # set up model\n",
    "aep_gross, aep_net = aep.cal_AEP()  # calculate AEP\n",
    "print(f'Gross AEP: {aep_gross.sum():.4e}')\n",
    "print(f'Net AEP:   {aep_net.sum():.4e}')"
   ]
  },
  {
   "cell_type": "code",
   "execution_count": 9,
   "metadata": {
    "scrolled": false
   },
   "outputs": [
    {
     "ename": "Exception",
     "evalue": "('Strange position array', (2, 80))",
     "output_type": "error",
     "traceback": [
      "\u001b[0;31m---------------------------------------------------------------------------\u001b[0m",
      "\u001b[0;31mException\u001b[0m                                 Traceback (most recent call last)",
      "\u001b[0;32m<ipython-input-9-73bd722425ea>\u001b[0m in \u001b[0;36m<module>\u001b[0;34m()\u001b[0m\n\u001b[1;32m      2\u001b[0m \u001b[0;31m# STEP 3: Define wake model\u001b[0m\u001b[0;34m\u001b[0m\u001b[0;34m\u001b[0m\u001b[0m\n\u001b[1;32m      3\u001b[0m \u001b[0;34m\u001b[0m\u001b[0m\n\u001b[0;32m----> 4\u001b[0;31m \u001b[0mGCL\u001b[0m \u001b[0;34m=\u001b[0m \u001b[0mWakeModel\u001b[0m\u001b[0;34m(\u001b[0m\u001b[0mwake_model\u001b[0m\u001b[0;34m=\u001b[0m\u001b[0;34m'fort_gclm'\u001b[0m\u001b[0;34m,\u001b[0m \u001b[0mwind_farm_yml\u001b[0m\u001b[0;34m=\u001b[0m\u001b[0mwfl_path\u001b[0m\u001b[0;34m)\u001b[0m  \u001b[0;31m# N.O. Jensen by default\u001b[0m\u001b[0;34m\u001b[0m\u001b[0m\n\u001b[0m\u001b[1;32m      5\u001b[0m \u001b[0;34m\u001b[0m\u001b[0m\n\u001b[1;32m      6\u001b[0m \u001b[0;31m# =============================================================================\u001b[0m\u001b[0;34m\u001b[0m\u001b[0;34m\u001b[0m\u001b[0m\n",
      "\u001b[0;32m~/git/FW/jennifu/topfarm/wake_model.py\u001b[0m in \u001b[0;36m__init__\u001b[0;34m(self, wake_model, turbulence_model, wind_farm_yml)\u001b[0m\n\u001b[1;32m     20\u001b[0m         \u001b[0mself\u001b[0m\u001b[0;34m.\u001b[0m\u001b[0mturbulence_model\u001b[0m \u001b[0;34m=\u001b[0m \u001b[0mturbulence_model\u001b[0m\u001b[0;34m\u001b[0m\u001b[0m\n\u001b[1;32m     21\u001b[0m         \u001b[0;32mif\u001b[0m \u001b[0;32mnot\u001b[0m \u001b[0mwind_farm_yml\u001b[0m \u001b[0;32mis\u001b[0m \u001b[0;32mNone\u001b[0m\u001b[0;34m:\u001b[0m\u001b[0;34m\u001b[0m\u001b[0m\n\u001b[0;32m---> 22\u001b[0;31m             \u001b[0mself\u001b[0m\u001b[0;34m.\u001b[0m\u001b[0mwf\u001b[0m \u001b[0;34m=\u001b[0m \u001b[0mWindFarm\u001b[0m\u001b[0;34m(\u001b[0m\u001b[0myml\u001b[0m\u001b[0;34m=\u001b[0m\u001b[0mwind_farm_yml\u001b[0m\u001b[0;34m)\u001b[0m\u001b[0;34m\u001b[0m\u001b[0m\n\u001b[0m\u001b[1;32m     23\u001b[0m             \u001b[0mself\u001b[0m\u001b[0;34m.\u001b[0m\u001b[0mgcl\u001b[0m \u001b[0;34m=\u001b[0m \u001b[0mGCL\u001b[0m\u001b[0;34m(\u001b[0m\u001b[0mWF\u001b[0m\u001b[0;34m=\u001b[0m\u001b[0mself\u001b[0m\u001b[0;34m.\u001b[0m\u001b[0mwf\u001b[0m\u001b[0;34m)\u001b[0m\u001b[0;34m\u001b[0m\u001b[0m\n\u001b[1;32m     24\u001b[0m \u001b[0;34m\u001b[0m\u001b[0m\n",
      "\u001b[0;32m~/anaconda3/envs/FW/lib/python3.6/site-packages/fusedwake/WindFarm.py\u001b[0m in \u001b[0;36m__init__\u001b[0;34m(self, name, yml, coordFile, WT)\u001b[0m\n\u001b[1;32m     68\u001b[0m         \u001b[0;31m# We generate a wind turbine list\u001b[0m\u001b[0;34m\u001b[0m\u001b[0;34m\u001b[0m\u001b[0m\n\u001b[1;32m     69\u001b[0m \u001b[0;34m\u001b[0m\u001b[0m\n\u001b[0;32m---> 70\u001b[0;31m         \u001b[0mself\u001b[0m\u001b[0;34m.\u001b[0m\u001b[0mupdate_position\u001b[0m\u001b[0;34m(\u001b[0m\u001b[0mself\u001b[0m\u001b[0;34m.\u001b[0m\u001b[0mpos\u001b[0m\u001b[0;34m)\u001b[0m\u001b[0;34m\u001b[0m\u001b[0m\n\u001b[0m\u001b[1;32m     71\u001b[0m \u001b[0;34m\u001b[0m\u001b[0m\n\u001b[1;32m     72\u001b[0m \u001b[0;34m\u001b[0m\u001b[0m\n",
      "\u001b[0;32m~/anaconda3/envs/FW/lib/python3.6/site-packages/fusedwake/WindFarm.py\u001b[0m in \u001b[0;36mupdate_position\u001b[0;34m(self, pos)\u001b[0m\n\u001b[1;32m     78\u001b[0m             \u001b[0mself\u001b[0m\u001b[0;34m.\u001b[0m\u001b[0mxyz\u001b[0m \u001b[0;34m=\u001b[0m \u001b[0mpos\u001b[0m\u001b[0;34m\u001b[0m\u001b[0m\n\u001b[1;32m     79\u001b[0m         \u001b[0;32melse\u001b[0m\u001b[0;34m:\u001b[0m\u001b[0;34m\u001b[0m\u001b[0m\n\u001b[0;32m---> 80\u001b[0;31m             \u001b[0;32mraise\u001b[0m \u001b[0mException\u001b[0m\u001b[0;34m(\u001b[0m\u001b[0;34m'Strange position array'\u001b[0m\u001b[0;34m,\u001b[0m \u001b[0mpos\u001b[0m\u001b[0;34m.\u001b[0m\u001b[0mshape\u001b[0m\u001b[0;34m)\u001b[0m\u001b[0;34m\u001b[0m\u001b[0m\n\u001b[0m\u001b[1;32m     81\u001b[0m \u001b[0;34m\u001b[0m\u001b[0m\n\u001b[1;32m     82\u001b[0m         \u001b[0;31m# Vector from iWT to jWT: self.vectWTtoWT[:,i,j] [3, nWT, nWT]\u001b[0m\u001b[0;34m\u001b[0m\u001b[0;34m\u001b[0m\u001b[0m\n",
      "\u001b[0;31mException\u001b[0m: ('Strange position array', (2, 80))"
     ]
    }
   ],
   "source": [
    "# =============================================================================\n",
    "# STEP 3: Define wake model\n",
    "\n",
    "GCL = WakeModel(wake_model='fort_gclm', wind_farm_yml=wfl_path)  # N.O. Jensen by default\n",
    "\n",
    "# =============================================================================\n",
    "# STEP 4: Calculate AEP\n",
    "\n",
    "aep = AEP(wr, wind_farm, GCL, ti=100.0)  # set up model\n",
    "aep_gross, aep_net = aep.cal_AEP()  # calculate AEP\n",
    "print(f'Gross AEP: {aep_gross.sum():.4e}')\n",
    "print(f'Net AEP:   {aep_net.sum():.4e}')"
   ]
  },
  {
   "cell_type": "code",
   "execution_count": null,
   "metadata": {},
   "outputs": [],
   "source": [
    "%debug"
   ]
  },
  {
   "cell_type": "code",
   "execution_count": null,
   "metadata": {},
   "outputs": [],
   "source": [
    "aep.wf_design[:, 0].shape\n",
    "#aep.wf_design[:, 1]\n",
    "#aep.wf_design[:, 4]\n",
    "#aep.wf_design[:, 3]\n",
    "#aep.c\n",
    "#aep.local_wd_ideal_ikl\n",
    "#aep.local_Ct_ikl\n",
    "#aep.turbulence_il"
   ]
  },
  {
   "cell_type": "code",
   "execution_count": null,
   "metadata": {},
   "outputs": [],
   "source": [
    "aep.local_ws_ideal_ikl.shape"
   ]
  },
  {
   "cell_type": "code",
   "execution_count": null,
   "metadata": {},
   "outputs": [],
   "source": [
    "aep.local_ws_ideal_ikl.shape"
   ]
  },
  {
   "cell_type": "code",
   "execution_count": null,
   "metadata": {},
   "outputs": [],
   "source": [
    "(aep_gross.sum() - aep_net.sum())/aep_gross.sum() "
   ]
  },
  {
   "cell_type": "code",
   "execution_count": null,
   "metadata": {},
   "outputs": [],
   "source": [
    "aep.turbulence_il"
   ]
  },
  {
   "cell_type": "code",
   "execution_count": null,
   "metadata": {},
   "outputs": [],
   "source": [
    "aep.wind_farm.u_pcurve[0].shape"
   ]
  },
  {
   "cell_type": "code",
   "execution_count": null,
   "metadata": {},
   "outputs": [],
   "source": [
    "aep.wind_farm.get_power(0, 8.0)"
   ]
  },
  {
   "cell_type": "code",
   "execution_count": null,
   "metadata": {},
   "outputs": [],
   "source": [
    "aep.local_power_real_ikl.sum()"
   ]
  },
  {
   "cell_type": "code",
   "execution_count": null,
   "metadata": {},
   "outputs": [],
   "source": [
    "delta_ws = (aep.local_ws_ideal_ikl[:, 1:, 1:] -\n",
    "                    aep.local_ws_ideal_ikl[:, :-1, 1:])\n",
    "\n",
    "delta_wd = (aep.local_wd_ideal_ikl[:, 1:, 1:] -\n",
    "            aep.local_wd_ideal_ikl[:, 1:, :-1])\n",
    "\n",
    "pdf_array = (aep.local_pdf_ikl[:, 1:, 1:] +\n",
    "             aep.local_pdf_ikl[:, :-1, 1:]) / 2\n",
    "\n",
    "power_ideal_array = (aep.local_power_ideal_ikl[:, 1:, 1:] +\n",
    "                     aep.local_power_ideal_ikl[:, :-1, 1:]) / 2\n",
    "\n",
    "power_real_array = (aep.local_power_real_ikl[:, 1:, 1:] +\n",
    "                    aep.local_power_real_ikl[:, :-1, 1:]) / 2\n",
    "\n",
    "mean_power_ideal = np.sum(\n",
    "    delta_ws * delta_wd * pdf_array * power_ideal_array, (1, 2))\n",
    "\n",
    "mean_power_real = np.sum(\n",
    "    delta_ws * delta_wd * pdf_array * power_real_array, (1, 2))\n",
    "\n",
    "num_hrs_a_year = 8760\n",
    "AEP_gross = num_hrs_a_year * mean_power_ideal * aep.availability\n",
    "AEP_net = num_hrs_a_year * mean_power_real * aep.availability"
   ]
  },
  {
   "cell_type": "code",
   "execution_count": null,
   "metadata": {},
   "outputs": [],
   "source": [
    "AEP_gross"
   ]
  },
  {
   "cell_type": "code",
   "execution_count": null,
   "metadata": {},
   "outputs": [],
   "source": [
    "aep.local_pdf_ikl.sum()"
   ]
  },
  {
   "cell_type": "code",
   "execution_count": null,
   "metadata": {},
   "outputs": [],
   "source": []
  }
 ],
 "metadata": {
  "kernelspec": {
   "display_name": "FW",
   "language": "python",
   "name": "fw"
  },
  "language_info": {
   "codemirror_mode": {
    "name": "ipython",
    "version": 3
   },
   "file_extension": ".py",
   "mimetype": "text/x-python",
   "name": "python",
   "nbconvert_exporter": "python",
   "pygments_lexer": "ipython3",
   "version": "3.6.5"
  }
 },
 "nbformat": 4,
 "nbformat_minor": 2
}
